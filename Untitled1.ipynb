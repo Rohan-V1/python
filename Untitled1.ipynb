{
 "cells": [
  {
   "cell_type": "code",
   "execution_count": 1,
   "id": "8ac3b485",
   "metadata": {},
   "outputs": [
    {
     "ename": "SyntaxError",
     "evalue": "invalid syntax. Maybe you meant '==' or ':=' instead of '='? (120735577.py, line 3)",
     "output_type": "error",
     "traceback": [
      "\u001b[1;36m  Cell \u001b[1;32mIn[1], line 3\u001b[1;36m\u001b[0m\n\u001b[1;33m    a=10\u001b[0m\n\u001b[1;37m    ^\u001b[0m\n\u001b[1;31mSyntaxError\u001b[0m\u001b[1;31m:\u001b[0m invalid syntax. Maybe you meant '==' or ':=' instead of '='?\n"
     ]
    }
   ],
   "source": [
    "class hello:\n",
    "    {\n",
    "    a=10\n",
    "    }\n",
    "    \n",
    "    print(a);\n",
    "    "
   ]
  },
  {
   "cell_type": "code",
   "execution_count": 2,
   "id": "eefd49ac",
   "metadata": {},
   "outputs": [
    {
     "name": "stdout",
     "output_type": "stream",
     "text": [
      "Alice\n",
      "30\n",
      "Hello, my name is Alice and I am 30 years old.\n"
     ]
    }
   ],
   "source": [
    "class Person:\n",
    "    def __init__(self, name, age):\n",
    "        self.name = name\n",
    "        self.age = age\n",
    "\n",
    "    def greet(self):\n",
    "        print(f\"Hello, my name is {self.name} and I am {self.age} years old.\")\n",
    "\n",
    "\n",
    "# Creating an object of the Person class\n",
    "person1 = Person(\"Alice\", 30)\n",
    "\n",
    "# Accessing attributes and calling methods of the object\n",
    "print(person1.name)  # Output: Alice\n",
    "print(person1.age)   # Output: 30\n",
    "person1.greet()      # Output: Hello, my name is Alice and I am 30 years old.\n"
   ]
  },
  {
   "cell_type": "code",
   "execution_count": 5,
   "id": "58897b1b",
   "metadata": {},
   "outputs": [],
   "source": [
    "class hello:\n",
    "    def addition(a,b):\n",
    "        c=a\n",
    "        d=b\n",
    "        \n",
    "class HI:       \n",
    "    def prin():\n",
    "        h=hello(5,8)\n",
    "        h.hello()\n",
    "        print(c+d)\n",
    "            "
   ]
  },
  {
   "cell_type": "code",
   "execution_count": null,
   "id": "346ddc9e",
   "metadata": {},
   "outputs": [],
   "source": []
  },
  {
   "cell_type": "code",
   "execution_count": 7,
   "id": "5aeb6568",
   "metadata": {},
   "outputs": [],
   "source": [
    "class hello:\n",
    "    def addition(self,a,b):\n",
    "       self.c=a\n",
    "       self.d=b\n",
    "        \n",
    "class HI:       \n",
    "    def prin(self):\n",
    "        h=hello(5,8)\n",
    "        h.hello()\n",
    "        print(c+d)"
   ]
  },
  {
   "cell_type": "code",
   "execution_count": null,
   "id": "1e3801b7",
   "metadata": {},
   "outputs": [],
   "source": []
  },
  {
   "cell_type": "code",
   "execution_count": 8,
   "id": "1f9eaf65",
   "metadata": {},
   "outputs": [],
   "source": [
    "class hello:\n",
    "    def addition(self,a,b):\n",
    "       self.c=a\n",
    "       self.d=b      \n",
    "    def prin(self):\n",
    "        h=hello(5,8)\n",
    "        h.hello()\n",
    "        print(c+d)"
   ]
  },
  {
   "cell_type": "code",
   "execution_count": 9,
   "id": "06669dd8",
   "metadata": {},
   "outputs": [
    {
     "name": "stdout",
     "output_type": "stream",
     "text": [
      "HI\n"
     ]
    }
   ],
   "source": [
    "print (\"HI\")"
   ]
  },
  {
   "cell_type": "code",
   "execution_count": 11,
   "id": "5023a988",
   "metadata": {},
   "outputs": [],
   "source": [
    "class hello:\n",
    "    def addition(self,a,b):\n",
    "       self.a=a\n",
    "       self.b=b      \n",
    "    def prin(self):\n",
    "        h=hello(5,8)\n",
    "        h.hello()\n",
    "        print(a+b)"
   ]
  },
  {
   "cell_type": "code",
   "execution_count": 12,
   "id": "cc910427",
   "metadata": {},
   "outputs": [
    {
     "ename": "IndentationError",
     "evalue": "unexpected indent (4149043027.py, line 5)",
     "output_type": "error",
     "traceback": [
      "\u001b[1;36m  Cell \u001b[1;32mIn[12], line 5\u001b[1;36m\u001b[0m\n\u001b[1;33m    print(a+b)\u001b[0m\n\u001b[1;37m    ^\u001b[0m\n\u001b[1;31mIndentationError\u001b[0m\u001b[1;31m:\u001b[0m unexpected indent\n"
     ]
    }
   ],
   "source": [
    "class hello:\n",
    "    def addition(self,a,b):\n",
    "       self.a=a\n",
    "       self.b=b  \n",
    "        print(a+b)\n",
    "    def prin(self):\n",
    "        h=hello(5,8)\n",
    "        h.hello()\n",
    "        print(a+b)"
   ]
  },
  {
   "cell_type": "code",
   "execution_count": 14,
   "id": "6d20faaa",
   "metadata": {},
   "outputs": [],
   "source": [
    "class hello:\n",
    "    def addition(a,b):  \n",
    "        print(a+b)\n",
    "        \n",
    "    def prin(self):\n",
    "        h=hello(5,8)\n",
    "        h.addition()"
   ]
  },
  {
   "cell_type": "code",
   "execution_count": 15,
   "id": "c0994e3d",
   "metadata": {},
   "outputs": [],
   "source": [
    "class hello:\n",
    "    def addition(a,b):  \n",
    "        print(a+b)\n",
    "        \n",
    "    def prin(self):\n",
    "        h=hello(5,8)\n",
    "        h.addition()"
   ]
  },
  {
   "cell_type": "code",
   "execution_count": null,
   "id": "425e665c",
   "metadata": {},
   "outputs": [],
   "source": []
  }
 ],
 "metadata": {
  "kernelspec": {
   "display_name": "Python 3 (ipykernel)",
   "language": "python",
   "name": "python3"
  },
  "language_info": {
   "codemirror_mode": {
    "name": "ipython",
    "version": 3
   },
   "file_extension": ".py",
   "mimetype": "text/x-python",
   "name": "python",
   "nbconvert_exporter": "python",
   "pygments_lexer": "ipython3",
   "version": "3.11.5"
  }
 },
 "nbformat": 4,
 "nbformat_minor": 5
}
